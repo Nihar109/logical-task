{
 "cells": [
  {
   "cell_type": "markdown",
   "id": "d67b62ee",
   "metadata": {},
   "source": [
    "Printing finding prime number for 1 to 100"
   ]
  },
  {
   "cell_type": "code",
   "execution_count": 1,
   "id": "be736009",
   "metadata": {},
   "outputs": [
    {
     "name": "stdout",
     "output_type": "stream",
     "text": [
      "[2, 3, 5, 7, 11, 13, 17, 19, 23, 29, 31, 37, 41, 43, 47, 53, 59, 61, 67, 71, 73, 79, 83, 89, 97]\n"
     ]
    }
   ],
   "source": [
    "prime = []\n",
    "def prime_num(num):\n",
    "    \"\"\"Creating a function to find prime number\"\"\"\n",
    "    global prime\n",
    "    for n in range (1,num):\n",
    "        if n >1:\n",
    "            for i in range(2,n):\n",
    "\n",
    "                if n%i == 0:\n",
    "                    break\n",
    "            else:\n",
    "                prime.append(n)\n",
    "\n",
    "    return prime\n",
    "print(prime_num(100))"
   ]
  },
  {
   "cell_type": "markdown",
   "id": "6b506fa5",
   "metadata": {},
   "source": [
    "Converting a number into currency format"
   ]
  },
  {
   "cell_type": "code",
   "execution_count": 12,
   "id": "c8159d60",
   "metadata": {},
   "outputs": [
    {
     "data": {
      "text/plain": [
       "'1,234,567,878,654'"
      ]
     },
     "execution_count": 12,
     "metadata": {},
     "output_type": "execute_result"
    }
   ],
   "source": [
    "def currency(num):\n",
    "    \"\"\"Converting a number into currency format\"\"\"\n",
    "    return \"{:,}\".format(num)\n",
    "\n",
    "currency(1234567878654)"
   ]
  },
  {
   "cell_type": "code",
   "execution_count": null,
   "id": "a0be46e6",
   "metadata": {},
   "outputs": [],
   "source": []
  }
 ],
 "metadata": {
  "kernelspec": {
   "display_name": "Python 3 (ipykernel)",
   "language": "python",
   "name": "python3"
  },
  "language_info": {
   "codemirror_mode": {
    "name": "ipython",
    "version": 3
   },
   "file_extension": ".py",
   "mimetype": "text/x-python",
   "name": "python",
   "nbconvert_exporter": "python",
   "pygments_lexer": "ipython3",
   "version": "3.8.10"
  }
 },
 "nbformat": 4,
 "nbformat_minor": 5
}
