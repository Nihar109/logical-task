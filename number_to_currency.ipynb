{
 "cells": [
  {
   "cell_type": "code",
   "execution_count": 1,
   "id": "9a8edc36",
   "metadata": {},
   "outputs": [
    {
     "data": {
      "text/plain": [
       "'123,456,789.0987'"
      ]
     },
     "execution_count": 1,
     "metadata": {},
     "output_type": "execute_result"
    }
   ],
   "source": [
    "def currancy(num):\n",
    "    \"\"\"Creating a fu\"\"\"\n",
    "    num_split = str(num).split(\".\")\n",
    "    num_list = list(num_split[0])\n",
    "    for i in range(len(num_list))[::-3][1:]:\n",
    "        \"\"\"Split the list into reverse of \n",
    "        step size 3 add comma on next position\"\"\"\n",
    "        \n",
    "        num_list.insert(i+1,\",\")  \n",
    "    result = \"\".join(num_list)+\".\"+num_split[1]\n",
    "    return result\n",
    "currancy(123456789.0987)"
   ]
  }
 ],
 "metadata": {
  "kernelspec": {
   "display_name": "Python 3 (ipykernel)",
   "language": "python",
   "name": "python3"
  },
  "language_info": {
   "codemirror_mode": {
    "name": "ipython",
    "version": 3
   },
   "file_extension": ".py",
   "mimetype": "text/x-python",
   "name": "python",
   "nbconvert_exporter": "python",
   "pygments_lexer": "ipython3",
   "version": "3.8.10"
  }
 },
 "nbformat": 4,
 "nbformat_minor": 5
}
